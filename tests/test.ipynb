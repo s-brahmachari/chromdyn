{
 "cells": [
  {
   "cell_type": "code",
   "execution_count": 1,
   "metadata": {},
   "outputs": [
    {
     "name": "stderr",
     "output_type": "stream",
     "text": [
      "2025-08-15 17:11:42,761 | INFO | run_tests | Run tests initialized.\n"
     ]
    }
   ],
   "source": [
    "from run_tests import run_tests\n",
    "test = run_tests()"
   ]
  },
  {
   "cell_type": "code",
   "execution_count": 2,
   "metadata": {},
   "outputs": [
    {
     "name": "stderr",
     "output_type": "stream",
     "text": [
      "2025-08-15 17:11:46,241 | INFO | Platforms | --------------------------------------------------------------------------------\n",
      "2025-08-15 17:11:46,242 | INFO | Platforms | Number of available OpenMM platforms: 3\n",
      "\n",
      "2025-08-15 17:11:46,242 | INFO | Platforms | Index    Platform Name        Speed (estimated)   \n",
      "2025-08-15 17:11:46,243 | INFO | Platforms | --------------------------------------------------\n",
      "2025-08-15 17:11:46,244 | INFO | Platforms | 0        Reference            1.0                 \n",
      "2025-08-15 17:11:46,244 | INFO | Platforms | 1        CPU                  10.0                \n",
      "2025-08-15 17:11:46,245 | INFO | Platforms | 2        OpenCL               50.0                \n",
      "2025-08-15 17:11:46,245 | INFO | Platforms | --------------------------------------------------------------------------------\n"
     ]
    }
   ],
   "source": [
    "test.platforms()"
   ]
  },
  {
   "cell_type": "code",
   "execution_count": null,
   "metadata": {},
   "outputs": [
    {
     "name": "stderr",
     "output_type": "stream",
     "text": [
      "2025-08-15 17:02:01,346 | INFO | run_tests | --------------------------------------------------------------------------------\n",
      "2025-08-15 17:02:01,347 | INFO | run_tests | Running simulations to test harmonic bonds\n",
      "2025-08-15 17:02:01,348 | INFO | run_tests | --------------------------------------------------\n",
      "2025-08-15 17:02:01,348 | INFO | run_tests | k_b            sigma_b       \n",
      "2025-08-15 17:02:01,348 | INFO | run_tests |           expected     sim    \n",
      "2025-08-15 17:02:01,349 | INFO | run_tests | --------------------------------------------------\n",
      "2025-08-15 17:02:05,535 | INFO | run_tests | 1.00       1.000      0.796   \n",
      "2025-08-15 17:02:09,556 | INFO | run_tests | 5.00       0.447      0.400   \n",
      "2025-08-15 17:02:13,506 | INFO | run_tests | 10.00      0.316      0.286   \n",
      "2025-08-15 17:02:17,550 | INFO | run_tests | 50.00      0.141      0.136   \n",
      "2025-08-15 17:02:17,550 | INFO | run_tests | --------------------------------------------------------------------------------\n"
     ]
    }
   ],
   "source": [
    "test.harmonic_bonds()"
   ]
  },
  {
   "cell_type": "code",
   "execution_count": 4,
   "metadata": {},
   "outputs": [
    {
     "name": "stderr",
     "output_type": "stream",
     "text": [
      "2025-08-15 17:02:17,554 | INFO | run_tests | --------------------------------------------------------------------------------\n",
      "2025-08-15 17:02:17,555 | INFO | run_tests | Running simulations to test type-to-type interactions\n",
      "2025-08-15 17:02:17,556 | INFO | run_tests | --------------------------------------------------\n",
      "2025-08-15 17:02:17,556 | INFO | run_tests | N             Rad. Gyr.      \n",
      "2025-08-15 17:02:17,556 | INFO | run_tests |           expected     sim    \n",
      "2025-08-15 17:02:17,557 | INFO | run_tests | --------------------------------------------------\n",
      "2025-08-15 17:02:29,374 | INFO | run_tests | 50          2.91       2.77   \n",
      "2025-08-15 17:02:41,090 | INFO | run_tests | 100         3.66       3.31   \n",
      "2025-08-15 17:02:54,033 | INFO | run_tests | 500         6.22       4.97   \n",
      "2025-08-15 17:02:54,034 | INFO | run_tests | --------------------------------------------------------------------------------\n"
     ]
    }
   ],
   "source": [
    "test.bad_solvent(platform=\"OpenCL\")"
   ]
  },
  {
   "cell_type": "code",
   "execution_count": 2,
   "metadata": {},
   "outputs": [
    {
     "name": "stderr",
     "output_type": "stream",
     "text": [
      "2025-08-15 17:04:29,026 | INFO | run_tests | --------------------------------------------------------------------------------\n",
      "2025-08-15 17:04:29,026 | INFO | run_tests | Running simulations to test force removal during sims\n",
      "2025-08-15 17:04:29,027 | INFO | run_tests | --------------------------------------------------\n",
      "2025-08-15 17:04:29,028 | INFO | run_tests | Type          Rad. Gyr.      \n",
      "2025-08-15 17:04:29,028 | INFO | run_tests |           expected     sim    \n",
      "2025-08-15 17:04:29,029 | INFO | run_tests | --------------------------------------------------\n",
      "2025-08-15 17:04:54,289 | INFO | run_tests | polymer     5.00       4.06   \n",
      "2025-08-15 17:05:19,412 | INFO | run_tests | gas        15.00      12.56   \n",
      "2025-08-15 17:05:19,412 | INFO | run_tests | --------------------------------------------------------------------------------\n"
     ]
    }
   ],
   "source": [
    "test.remove_force()"
   ]
  },
  {
   "cell_type": "code",
   "execution_count": 3,
   "metadata": {},
   "outputs": [
    {
     "name": "stderr",
     "output_type": "stream",
     "text": [
      "2025-08-15 17:05:19,418 | INFO | run_tests | --------------------------------------------------------------------------------\n",
      "2025-08-15 17:05:19,418 | INFO | run_tests | Running simulations to test confinement\n",
      "2025-08-15 17:05:19,419 | INFO | run_tests | --------------------------------------------------\n",
      "2025-08-15 17:05:19,419 | INFO | run_tests | Rc            Rad. Gyr.      \n",
      "2025-08-15 17:05:19,419 | INFO | run_tests |           expected     sim    \n",
      "2025-08-15 17:05:19,420 | INFO | run_tests | --------------------------------------------------\n",
      "2025-08-15 17:05:23,234 | INFO | run_tests | 5.00        5.00       4.97   \n",
      "2025-08-15 17:05:27,432 | INFO | run_tests | 8.00        8.00       7.35   \n",
      "2025-08-15 17:05:31,672 | INFO | run_tests | 12.00      12.00      10.27   \n",
      "2025-08-15 17:05:31,672 | INFO | run_tests | --------------------------------------------------------------------------------\n"
     ]
    }
   ],
   "source": [
    "test.confinement()"
   ]
  },
  {
   "cell_type": "code",
   "execution_count": 4,
   "metadata": {},
   "outputs": [
    {
     "name": "stderr",
     "output_type": "stream",
     "text": [
      "2025-08-15 17:05:31,677 | INFO | run_tests | --------------------------------------------------------------------------------\n",
      "2025-08-15 17:05:31,678 | INFO | run_tests | Running simulations to test self avoidance\n",
      "2025-08-15 17:05:31,678 | INFO | run_tests | --------------------------------------------------\n",
      "2025-08-15 17:05:31,679 | INFO | run_tests | N             Rad. Gyr.      \n",
      "2025-08-15 17:05:31,679 | INFO | run_tests |           expected     sim    \n",
      "2025-08-15 17:05:31,679 | INFO | run_tests | --------------------------------------------------\n",
      "2025-08-15 17:05:41,588 | INFO | run_tests | 50         6.27       5.47   \n",
      "2025-08-15 17:05:50,767 | INFO | run_tests | 100        9.51       8.41   \n",
      "2025-08-15 17:06:00,971 | INFO | run_tests | 500       24.98      20.16   \n",
      "2025-08-15 17:06:00,971 | INFO | run_tests | --------------------------------------------------------------------------------\n"
     ]
    }
   ],
   "source": [
    "test.self_avoidance(platform=\"OpenCL\")"
   ]
  }
 ],
 "metadata": {
  "kernelspec": {
   "display_name": "3p11",
   "language": "python",
   "name": "python3"
  },
  "language_info": {
   "codemirror_mode": {
    "name": "ipython",
    "version": 3
   },
   "file_extension": ".py",
   "mimetype": "text/x-python",
   "name": "python",
   "nbconvert_exporter": "python",
   "pygments_lexer": "ipython3",
   "version": "3.11.1"
  }
 },
 "nbformat": 4,
 "nbformat_minor": 2
}
