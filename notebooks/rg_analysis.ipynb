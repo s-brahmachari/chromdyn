{
 "cells": [
  {
   "cell_type": "code",
   "execution_count": 28,
   "metadata": {},
   "outputs": [],
   "source": [
    "import numpy as np\n",
    "import matplotlib.pyplot as plt\n",
    "import os\n",
    "import pandas as pd\n",
    "from scipy.optimize import curve_fit"
   ]
  },
  {
   "cell_type": "code",
   "execution_count": 15,
   "metadata": {},
   "outputs": [
    {
     "name": "stderr",
     "output_type": "stream",
     "text": [
      "/tmp/ipykernel_25336/3962205350.py:19: UserWarning: loadtxt: input contained no data: \"/work/cms16/sb95/Finzi_collab_bad_solvent_different_temp/N_500/chi_-0.6/temp_90.0/polymer_9_energy_report.txt\"\n",
      "  rg=np.loadtxt(os.path.join(path,val1, val2, val3, val4), skiprows=1)[:,2].mean()\n",
      "/tmp/ipykernel_25336/3962205350.py:19: UserWarning: loadtxt: input contained no data: \"/work/cms16/sb95/Finzi_collab_bad_solvent_different_temp/N_1000/chi_-0.6/temp_230.0/polymer_0_energy_report.txt\"\n",
      "  rg=np.loadtxt(os.path.join(path,val1, val2, val3, val4), skiprows=1)[:,2].mean()\n"
     ]
    },
    {
     "data": {
      "text/plain": [
       "{-1.0: {90.0: [[500, 2.838314882745826],\n",
       "   [1000, 3.703853137373737],\n",
       "   [5000, 9.124252381818183],\n",
       "   [2000, 4.647883827272727]],\n",
       "  120.0: [[500, 2.660935254328091],\n",
       "   [1000, 3.396647727133934],\n",
       "   [5000, 7.407933190909091],\n",
       "   [2000, 4.602414945454545]],\n",
       "  150.0: [[500, 2.5521413847025496],\n",
       "   [1000, 3.2049240951579856],\n",
       "   [5000, 7.688779463636363],\n",
       "   [2000, 4.255545281818183]],\n",
       "  180.0: [[500, 2.4643364937500003],\n",
       "   [1000, 3.052841054359926],\n",
       "   [5000, 7.66690870909091],\n",
       "   [2000, 3.9526108090909085]],\n",
       "  200.0: [[500, 2.413610199576869],\n",
       "   [1000, 2.9361488286295794],\n",
       "   [5000, 6.806580599999999],\n",
       "   [2000, 3.7940107545454547]],\n",
       "  230.0: [[500, 2.3407422293970637],\n",
       "   [1000, 2.8647081954545457],\n",
       "   [5000, 6.2915026727272725],\n",
       "   [2000, 3.5838438363636365]],\n",
       "  260.0: [[500, 2.3120392299438457],\n",
       "   [1000, 2.7657130562926566],\n",
       "   [5000, 5.916021890909091],\n",
       "   [2000, 3.5346098363636367]],\n",
       "  290.0: [[500, 4.038166784435982],\n",
       "   [1000, 2.7970772684080623],\n",
       "   [5000, 5.605167009090909],\n",
       "   [2000, 3.4492130363636364]]},\n",
       " -0.6: {90.0: [[500, 5.813642262626263],\n",
       "   [1000, 7.155147937229438],\n",
       "   [5000, 14.388609818181816],\n",
       "   [2000, 9.448668427272727]],\n",
       "  120.0: [[500, 7.161248394194962],\n",
       "   [1000, 8.494898577314428],\n",
       "   [5000, 17.217664490909094],\n",
       "   [2000, 10.761433072727273]],\n",
       "  150.0: [[500, 10.562631334692993],\n",
       "   [1000, 13.529093258173665],\n",
       "   [5000, 24.105416572727272],\n",
       "   [2000, 15.602866790909086]],\n",
       "  180.0: [[500, 14.001394989828981],\n",
       "   [1000, 18.297824906285072],\n",
       "   [5000, 39.006896418181825],\n",
       "   [2000, 23.798071545454548]],\n",
       "  200.0: [[500, 16.526349316009558],\n",
       "   [1000, 20.433921604278076],\n",
       "   [5000, 36.10267792727273],\n",
       "   [2000, 26.75028600909091]],\n",
       "  230.0: [[500, 16.051663605074502],\n",
       "   [1000, 22.912516616161614],\n",
       "   [5000, 39.12519533636363],\n",
       "   [2000, 30.28495711818182]],\n",
       "  260.0: [[500, 16.460334860068773],\n",
       "   [1000, 23.652393781818184],\n",
       "   [5000, 44.00562660909091],\n",
       "   [2000, 31.05600920909091]],\n",
       "  290.0: [[500, 17.111763036047247],\n",
       "   [1000, 24.80414029090909],\n",
       "   [5000, 43.790578145454546],\n",
       "   [2000, 32.972583163636365]]},\n",
       " -0.4: {90.0: [[500, 15.293620257900226], [1000, 19.306663663636364]],\n",
       "  120.0: [[500, 16.555853493341868], [1000, 20.95919205454545]],\n",
       "  150.0: [[500, 17.834802479069765], [1000, 25.60466893636364]],\n",
       "  180.0: [[500, 19.147983369278997], [1000, 27.201410172727275]],\n",
       "  200.0: [[500, 19.25762485809056], [1000, 25.9229829]],\n",
       "  230.0: [[500, 19.515334259878113], [1000, 27.00587976363637]],\n",
       "  260.0: [[500, 19.202390639252336], [1000, 29.42459011136363]],\n",
       "  290.0: [[500, 19.813095730256766], [1000, 27.763148411008167]]},\n",
       " -0.2: {90.0: [[500, 19.87639317272727],\n",
       "   [1000, 26.798407954545457],\n",
       "   [5000, 43.87232308181818]],\n",
       "  120.0: [[500, 19.98426717272727],\n",
       "   [1000, 27.28570651818182],\n",
       "   [5000, 42.52837147272727]],\n",
       "  150.0: [[500, 21.205272763636366],\n",
       "   [1000, 26.677059018181815],\n",
       "   [5000, 47.55917388181818]],\n",
       "  180.0: [[500, 21.20748139090909],\n",
       "   [1000, 28.562790572727273],\n",
       "   [5000, 48.95846877272727]],\n",
       "  200.0: [[500, 21.693480345454546],\n",
       "   [1000, 28.666796363636365],\n",
       "   [5000, 46.82110253636363]],\n",
       "  230.0: [[500, 20.37106166363636],\n",
       "   [1000, 31.26829838181818],\n",
       "   [5000, 50.30160898181818]],\n",
       "  260.0: [[500, 20.85259361818182],\n",
       "   [1000, 30.354446327272722],\n",
       "   [5000, 50.427686509090904]],\n",
       "  290.0: [[500, 21.055513354545454],\n",
       "   [1000, 29.942004554545452],\n",
       "   [5000, 49.38750035454546]]},\n",
       " -0.8: {90.0: [[500, 4.721725390909091], [1000, 4.177958690909091]],\n",
       "  120.0: [[500, 4.968687881818182], [1000, 6.1289506909090905]],\n",
       "  150.0: [[500, 5.228537318181818], [1000, 6.394155945454545]],\n",
       "  180.0: [[500, 5.596120163636364], [1000, 6.680875445454545]],\n",
       "  200.0: [[500, 5.878166554545454], [1000, 6.936591563636364]],\n",
       "  230.0: [[500, 6.6069236090909085], [1000, 7.552813663636364]],\n",
       "  260.0: [[500, 7.985474254545456], [1000, 8.662729245454546]],\n",
       "  290.0: [[500, 10.024476927272726], [1000, 9.855907154545454]]}}"
      ]
     },
     "execution_count": 15,
     "metadata": {},
     "output_type": "execute_result"
    }
   ],
   "source": [
    "path=\"/work/cms16/sb95/Finzi_collab_bad_solvent_different_temp/\"\n",
    "Rg={}\n",
    "for val1 in os.listdir(path):\n",
    "    if 'N_' in val1:\n",
    "        N = int(val1.split(\"N_\")[-1])\n",
    "        for val2 in os.listdir(os.path.join(path, val1)):\n",
    "            chi = float(val2.split('chi_')[-1])\n",
    "            if chi not in list(Rg.keys()):\n",
    "                Rg[chi] = {}\n",
    "            for val3 in sorted(os.listdir(os.path.join(path, val1, val2)), key=lambda x: float(x.split('temp_')[-1])):\n",
    "                temp = float(val3.split('temp_')[-1])\n",
    "                if temp not in list(Rg[chi].keys()):\n",
    "                    Rg[chi][temp] = []\n",
    "                rgval=[]\n",
    "                for val4 in os.listdir(os.path.join(path, val1, val2, val3)):\n",
    "                    if 'energy_report' in val4:\n",
    "                        # print(val4)\n",
    "                        try:\n",
    "                            rg=np.loadtxt(os.path.join(path,val1, val2, val3, val4), skiprows=1)[:,2].mean()\n",
    "                            rgval.append(rg)\n",
    "                        except(IndexError): pass\n",
    "                Rg[chi][temp].append([N,np.mean(rgval)])\n",
    "                # print(chi, temp, N, np.mean(rgval))\n",
    "                \n",
    "                \n",
    "Rg            "
   ]
  },
  {
   "cell_type": "code",
   "execution_count": 27,
   "metadata": {},
   "outputs": [],
   "source": [
    "def fit_fn(x,a,b):\n",
    "    return a*x**b"
   ]
  },
  {
   "cell_type": "code",
   "execution_count": 43,
   "metadata": {},
   "outputs": [
    {
     "name": "stdout",
     "output_type": "stream",
     "text": [
      "[0.07067442 0.56787573]\n",
      "[0.7505698 0.2250376]\n"
     ]
    },
    {
     "data": {
      "text/plain": [
       "[<matplotlib.lines.Line2D at 0x7f68219f3850>]"
      ]
     },
     "execution_count": 43,
     "metadata": {},
     "output_type": "execute_result"
    },
    {
     "data": {
      "image/png": "[encoded data removed]",
      "text/plain": [
       "<Figure size 640x480 with 1 Axes>"
      ]
     },
     "metadata": {},
     "output_type": "display_data"
    }
   ],
   "source": [
    "chi=-1.0\n",
    "Nvals = np.logspace(2,4,10)\n",
    "plt.loglog(np.array(Rg[chi][90.0])[:,0],np.array(Rg[chi][90.0])[:,1],'o')\n",
    "popt,pcov = curve_fit(fit_fn,np.array(Rg[chi][90.0])[:,0],np.array(Rg[chi][90.0])[:,1])\n",
    "print(popt)\n",
    "plt.loglog(Nvals, fit_fn(Nvals, *popt))\n",
    "plt.loglog(np.array(Rg[chi][290.0])[:,0],np.array(Rg[chi][290.0])[:,1],'o')\n",
    "popt,pcov = curve_fit(fit_fn,np.array(Rg[chi][290.0])[:,0],np.array(Rg[chi][290.0])[:,1])\n",
    "print(popt)\n",
    "plt.loglog(Nvals, fit_fn(Nvals, *popt))\n"
   ]
  },
  {
   "cell_type": "code",
   "execution_count": 42,
   "metadata": {},
   "outputs": [
    {
     "name": "stdout",
     "output_type": "stream",
     "text": [
      "60\n",
      "90\n",
      "120\n",
      "150\n",
      "180\n",
      "210\n",
      "240\n",
      "270\n",
      "300\n"
     ]
    }
   ],
   "source": [
    "%%bash\n",
    "for val in {60..300..30}; do \n",
    "echo $val \n",
    "done"
   ]
  }
 ],
 "metadata": {
  "kernelspec": {
   "display_name": "Python 3",
   "language": "python",
   "name": "python3"
  },
  "language_info": {
   "codemirror_mode": {
    "name": "ipython",
    "version": 3
   },
   "file_extension": ".py",
   "mimetype": "text/x-python",
   "name": "python",
   "nbconvert_exporter": "python",
   "pygments_lexer": "ipython3",
   "version": "3.11.4"
  }
 },
 "nbformat": 4,
 "nbformat_minor": 2
}
