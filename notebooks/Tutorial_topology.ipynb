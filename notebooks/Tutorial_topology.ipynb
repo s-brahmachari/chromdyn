{
 "cells": [
  {
   "cell_type": "markdown",
   "metadata": {},
   "source": [
    "## Import topology generator"
   ]
  },
  {
   "cell_type": "code",
   "execution_count": 2,
   "metadata": {},
   "outputs": [],
   "source": [
    "import sys\n",
    "sys.path.append('../chromdyn')\n",
    "from Topology import TopologyGenerator"
   ]
  },
  {
   "cell_type": "code",
   "execution_count": 8,
   "metadata": {},
   "outputs": [
    {
     "data": {
      "text/plain": [
       "<Topology; 2 chains, 1400 residues, 1400 atoms, 1398 bonds>"
      ]
     },
     "execution_count": 8,
     "metadata": {},
     "output_type": "execute_result"
    }
   ],
   "source": [
    "#Initialize generator object\n",
    "generator = TopologyGenerator()\n",
    "\n",
    "#generate topology of two chains of lengths 400 and 1000\n",
    "generator.gen_top([400,1000])\n",
    "\n",
    "# topology object\n",
    "generator.topology"
   ]
  },
  {
   "cell_type": "code",
   "execution_count": 9,
   "metadata": {},
   "outputs": [],
   "source": [
    "# output topology to console\n",
    "# generator.print_top()\n",
    "\n",
    "#save topology as a txt file\n",
    "generator.save_top('output/top.txt')"
   ]
  },
  {
   "cell_type": "code",
   "execution_count": 11,
   "metadata": {},
   "outputs": [
    {
     "name": "stdout",
     "output_type": "stream",
     "text": [
      "8\n",
      "\n",
      "ID         Name                 Type       Loci       Chain     \n",
      "\n",
      "0          chr1-L1-1            A          L1         chr1      \n",
      "\n",
      "1          chr1-L2-1            A          L2         chr1      \n",
      "\n",
      "2          chr1-L3-1            A          L3         chr1      \n",
      "\n",
      "3          chr1-L4-1            A          L4         chr1      \n",
      "\n",
      "4          chr1-L5-1            A          L5         chr1      \n",
      "\n",
      "5          chr2-L1-1            A          L1         chr2      \n",
      "\n",
      "6          chr2-L2-1            A          L2         chr2      \n",
      "\n",
      "7          chr2-L3-1            A          L3         chr2      \n",
      "\n"
     ]
    }
   ],
   "source": [
    "# specifying chain properties\n",
    "\n",
    "generator2 = TopologyGenerator()\n",
    "\n",
    "generator2.gen_top([5,3], chain_names=['chr1', 'chr2'], types = \"A\", isRing = [0, 1])\n",
    "generator2.print_top()"
   ]
  },
  {
   "cell_type": "code",
   "execution_count": null,
   "metadata": {},
   "outputs": [
    {
     "name": "stdout",
     "output_type": "stream",
     "text": [
      "8\n",
      "\n",
      "ID         Name                 Type       Loci       Chain     \n",
      "\n",
      "0          chr1-L1-1            A          L1         chr1      \n",
      "\n",
      "1          chr1-L2-1            A          L2         chr1      \n",
      "\n",
      "2          chr1-L3-1            B          L3         chr1      \n",
      "\n",
      "3          chr1-L4-1            B          L4         chr1      \n",
      "\n",
      "4          chr1-L5-1            B          L5         chr1      \n",
      "\n",
      "5          chr2-L1-1            B          L1         chr2      \n",
      "\n",
      "6          chr2-L2-1            B          L2         chr2      \n",
      "\n",
      "7          chr2-L3-1            B          L3         chr2      \n",
      "\n"
     ]
    }
   ],
   "source": [
    "# specifying monomer types\n",
    "\n",
    "generator2 = TopologyGenerator()\n",
    "\n",
    "generator2.gen_top([5,3], chain_names=['chr1', 'chr2'], types = ['A']*2+['B']*6, isRing = [0, 1])\n",
    "generator2.print_top()"
   ]
  },
  {
   "cell_type": "code",
   "execution_count": 14,
   "metadata": {},
   "outputs": [
    {
     "name": "stdout",
     "output_type": "stream",
     "text": [
      "8\n",
      "\n",
      "ID         Name                 Type       Loci       Chain     \n",
      "\n",
      "0          chr1-L1-1            M1         L1         chr1      \n",
      "\n",
      "1          chr1-L2-1            M2         L2         chr1      \n",
      "\n",
      "2          chr1-L3-1            M3         L3         chr1      \n",
      "\n",
      "3          chr1-L4-1            M4         L4         chr1      \n",
      "\n",
      "4          chr1-L5-1            M5         L5         chr1      \n",
      "\n",
      "5          chr2-L1-1            M6         L1         chr2      \n",
      "\n",
      "6          chr2-L2-1            M7         L2         chr2      \n",
      "\n",
      "7          chr2-L3-1            M8         L3         chr2      \n",
      "\n"
     ]
    }
   ],
   "source": [
    "# specifying monomer types\n",
    "# you can also provide the path to a .txt file formatted as typical for MiChroM\n",
    "# 1 A\n",
    "# 2 A\n",
    "# 3 B ...\n",
    "\n",
    "generator2 = TopologyGenerator()\n",
    "generator2.gen_top([5,3], chain_names=['chr1', 'chr2'], types = 'unique', isRing = [0, 1])\n",
    "generator2.print_top()"
   ]
  },
  {
   "cell_type": "code",
   "execution_count": 32,
   "metadata": {},
   "outputs": [
    {
     "name": "stdout",
     "output_type": "stream",
     "text": [
      "chr1\n",
      "0 chr1-L1-1 M1\n",
      "1 chr1-L2-1 M2\n",
      "2 chr1-L3-1 M3\n",
      "3 chr1-L4-1 M4\n",
      "4 chr1-L5-1 M5\n",
      "chr2\n",
      "5 chr2-L1-1 M6\n",
      "6 chr2-L2-1 M7\n",
      "7 chr2-L3-1 M8\n",
      "bonded pair: 0 1 M1 M2\n",
      "bonded pair: 1 2 M2 M3\n",
      "bonded pair: 2 3 M3 M4\n",
      "bonded pair: 3 4 M4 M5\n",
      "bonded pair: 5 6 M6 M7\n",
      "bonded pair: 6 7 M7 M8\n",
      "bonded pair: 5 7 M6 M8\n"
     ]
    }
   ],
   "source": [
    "# Advanatges of using the top object\n",
    "for chain in generator2.topology.chains():\n",
    "    print(chain.id)\n",
    "    for atom in chain.atoms():\n",
    "        print(atom.id, atom.name, atom.element)\n",
    "\n",
    "#acess all the bonds-- chain topology is taken care of as well as ring closure\n",
    "for bond in generator2.topology.bonds():\n",
    "    print('bonded pair:',bond[0].id, bond[1].id, bond[0].element, bond[1].element)"
   ]
  }
 ],
 "metadata": {
  "kernelspec": {
   "display_name": "3p11",
   "language": "python",
   "name": "python3"
  },
  "language_info": {
   "codemirror_mode": {
    "name": "ipython",
    "version": 3
   },
   "file_extension": ".py",
   "mimetype": "text/x-python",
   "name": "python",
   "nbconvert_exporter": "python",
   "pygments_lexer": "ipython3",
   "version": "3.11.1"
  }
 },
 "nbformat": 4,
 "nbformat_minor": 2
}
