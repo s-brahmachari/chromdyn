{
 "cells": [
  {
   "cell_type": "code",
   "execution_count": 1,
   "metadata": {},
   "outputs": [],
   "source": [
    "import sys\n",
    "sys.path.append('../chromdyn')\n",
    "from Topology import TopologyGenerator\n",
    "from ChromatinDynamics import ChromatinDynamics\n",
    "from Reporters import save_pdb\n",
    "\n",
    "from HiCManager import HiCManager\n",
    "hicman = HiCManager()\n",
    "\n",
    "import matplotlib.pyplot as plt\n",
    "import numpy as np"
   ]
  },
  {
   "cell_type": "code",
   "execution_count": 2,
   "metadata": {},
   "outputs": [],
   "source": [
    "#Initialize generator object\n",
    "generator = TopologyGenerator()\n",
    "\n",
    "#generate topology\n",
    "generator.gen_top([100])"
   ]
  },
  {
   "cell_type": "code",
   "execution_count": 13,
   "metadata": {},
   "outputs": [
    {
     "name": "stderr",
     "output_type": "stream",
     "text": [
      "2025-08-13 00:49:47,378 | INFO | ChromatinDynamics | ************************************************************\n",
      "2025-08-13 00:49:47,378 | INFO | ChromatinDynamics |                      Chromatin Dynamics                     \n",
      "2025-08-13 00:49:47,379 | INFO | ChromatinDynamics | ************************************************************\n",
      "2025-08-13 00:49:47,380 | INFO | ChromatinDynamics | System initialized with 100 particles. Output directory: output\n",
      "2025-08-13 00:49:47,381 | INFO | Platforms | Platform 'OpenCL' is available and selected.\n",
      "2025-08-13 00:49:47,382 | INFO | ChromatinDynamics | force_field_manager initialized. Use this to add forces before running setup.\n"
     ]
    }
   ],
   "source": [
    "#Initialize simulation object\n",
    "#output will be generated if not present\n",
    "sim = ChromatinDynamics(generator.topology, name = 'test', platform_name = \"OpenCL\", output_dir = \"output\", console_stream = True)"
   ]
  },
  {
   "cell_type": "code",
   "execution_count": 14,
   "metadata": {},
   "outputs": [
    {
     "name": "stderr",
     "output_type": "stream",
     "text": [
      "2025-08-13 00:49:48,793 | INFO | Forcefield | Adding 99 harmonic bonds with r0=1.0, k=10.0, group=0\n",
      "2025-08-13 00:49:48,794 | INFO | Forcefield | HarmonicBonds force successfully added to system.\n",
      "2025-08-13 00:49:48,795 | INFO | Forcefield | --------------------------------------------------\n",
      "2025-08-13 00:49:48,795 | INFO | Forcefield | Adding Self-avoidance force with parameters:\n",
      "2025-08-13 00:49:48,796 | INFO | Forcefield | Ecut=4.0, k_rep=5.0, r_rep=1.0, cutoff=5.0, group=2\n",
      "2025-08-13 00:49:48,797 | INFO | Forcefield | Added exclusions from bonded monomers.\n",
      "2025-08-13 00:49:48,797 | INFO | Forcefield | SelfAvoidance force successfully added to system.\n",
      "2025-08-13 00:49:48,797 | INFO | Forcefield | --------------------------------------------------\n",
      "2025-08-13 00:49:48,798 | INFO | Forcefield | --------------------------------------------------\n",
      "2025-08-13 00:49:48,798 | INFO | Forcefield | Adding Flat-Bottom Harmonic potential with parameters:\n",
      "2025-08-13 00:49:48,798 | INFO | Forcefield | k = 0.1, r0 = 10.0, group = 1\n",
      "2025-08-13 00:49:48,799 | INFO | Forcefield | FlatBottomHarmonic force successfully added to system.\n",
      "2025-08-13 00:49:48,799 | INFO | Forcefield | --------------------------------------------------\n"
     ]
    }
   ],
   "source": [
    "#Add forces\n",
    "sim.force_field_manager.add_harmonic_bonds()\n",
    "sim.force_field_manager.add_self_avoidance()\n",
    "sim.force_field_manager.add_flat_bottom_harmonic()"
   ]
  },
  {
   "cell_type": "code",
   "execution_count": null,
   "metadata": {},
   "outputs": [
    {
     "name": "stderr",
     "output_type": "stream",
     "text": [
      "2025-08-13 00:49:53,087 | INFO | Integrators | Creating integrator ...\n",
      "2025-08-13 00:49:53,088 | INFO | Integrators | Active LangevinIntegrator: temperature=10.0 | friction=0.1 | timestep=0.01\n",
      "2025-08-13 00:49:53,089 | INFO | Integrators | Initialized active parameters: F=0.0 and t_corr=1.0.\n",
      "2025-08-13 00:49:53,089 | INFO | Integrators | These parameters are per dof variables and can be set any time using .set_active_params(F_seq, tau_seq)\n",
      "2025-08-13 00:49:53,108 | INFO | ChromatinDynamics | Setting up simulation context...\n",
      "2025-08-13 00:49:53,109 | INFO | Utilities | Random walk created. Position shape: (100, 3)\n",
      "2025-08-13 00:49:53,112 | INFO | ChromatinDynamics | Simulation context initialized.\n",
      "2025-08-13 00:49:53,113 | INFO | ChromatinDynamics | ------------------------------------------------------------------------------------------------------------------------\n",
      "2025-08-13 00:49:53,113 | INFO | ChromatinDynamics | Index  Force Class                    Force Name           Group    Particles    Bonds        Exclusions   P.E./Particle       \n",
      "2025-08-13 00:49:53,113 | INFO | ChromatinDynamics | ------------------------------------------------------------------------------------------------------------------------\n",
      "2025-08-13 00:49:53,125 | INFO | ChromatinDynamics | 0      HarmonicBondForce              HarmonicBonds        0        N/A          99           N/A          0.000               \n",
      "2025-08-13 00:49:53,134 | INFO | ChromatinDynamics | 1      CustomNonbondedForce           SelfAvoidance        2        100          N/A          99           4.123               \n",
      "2025-08-13 00:49:53,135 | INFO | ChromatinDynamics | 2      CustomExternalForce            FlatBottomHarmonic   1        100          N/A          N/A          0.000               \n",
      "2025-08-13 00:49:53,139 | INFO | ChromatinDynamics | ------------------------------------------------------------------------------------------------------------------------\n",
      "2025-08-13 00:49:53,140 | INFO | ChromatinDynamics | Total particles: 100 | K.E./particle: 0.000 | P.E./particle: 4.123\n",
      "2025-08-13 00:49:53,140 | INFO | ChromatinDynamics | ------------------------------------------------------------------------------------------------------------------------\n",
      "2025-08-13 00:49:53,144 | INFO | ChromatinDynamics | Position reporter created: output/test_positions.cndb\n",
      "2025-08-13 00:49:53,144 | INFO | ChromatinDynamics | Energy reporter created: output/test_energy_report.txt\n",
      "2025-08-13 00:49:53,145 | INFO | Reporters | StabilityReporter initialized with thresholds: K.E. = 5.0, P.E. = 5.0\n",
      "2025-08-13 00:49:53,145 | INFO | ChromatinDynamics | Stability reporter created: output/test_stability_report.txt\n"
     ]
    }
   ],
   "source": [
    "#set up the simulation\n",
    "sim.simulation_setup(\n",
    "            init_struct='randomwalk',\n",
    "            integrator='active-langevin',\n",
    "            temperature=120.0,\n",
    "            timestep=0.01,\n",
    "            save_pos=True,\n",
    "            save_energy=True,\n",
    "            energy_report_interval=3_000,\n",
    "            pos_report_interval=1000,              \n",
    "            )"
   ]
  },
  {
   "cell_type": "code",
   "execution_count": 16,
   "metadata": {},
   "outputs": [
    {
     "name": "stderr",
     "output_type": "stream",
     "text": [
      "2025-08-13 00:49:55,558 | INFO | ChromatinDynamics | Added active force and correlation times for 100 particles.\n"
     ]
    }
   ],
   "source": [
    "F_seq=np.zeros(100)\n",
    "F_seq[50:60]=2.0\n",
    "tau_seq=[1000.0]*sim.num_particles\n",
    "\n",
    "sim.set_activity(F_seq=F_seq, tau_seq=tau_seq)"
   ]
  },
  {
   "cell_type": "code",
   "execution_count": 17,
   "metadata": {},
   "outputs": [
    {
     "name": "stderr",
     "output_type": "stream",
     "text": [
      "2025-08-13 00:49:58,515 | INFO | ChromatinDynamics | ------------------------------------------------------------\n",
      "2025-08-13 00:49:58,516 | INFO | ChromatinDynamics | Running simulation for 50000 steps...\n",
      "2025-08-13 00:50:21,099 | INFO | ChromatinDynamics | Completed 50000 steps in 22.58s (2214 steps/s)\n",
      "2025-08-13 00:50:21,099 | INFO | ChromatinDynamics | ------------------------------------------------------------\n"
     ]
    }
   ],
   "source": [
    "#collapse run\n",
    "sim.run(50_000, report=True)"
   ]
  },
  {
   "cell_type": "code",
   "execution_count": 8,
   "metadata": {},
   "outputs": [
    {
     "name": "stderr",
     "output_type": "stream",
     "text": [
      "2025-08-13 00:48:52,306 | INFO | ChromatinDynamics | ------------------------------------------------------------------------------------------------------------------------\n",
      "2025-08-13 00:48:52,307 | INFO | ChromatinDynamics | Index  Force Class                    Force Name           Group    Particles    Bonds        Exclusions   P.E./Particle       \n",
      "2025-08-13 00:48:52,307 | INFO | ChromatinDynamics | ------------------------------------------------------------------------------------------------------------------------\n",
      "2025-08-13 00:48:52,319 | INFO | ChromatinDynamics | 0      HarmonicBondForce              HarmonicBonds        0        N/A          99           N/A          0.753               \n",
      "2025-08-13 00:48:52,350 | INFO | ChromatinDynamics | 1      CustomNonbondedForce           SelfAvoidance        2        100          N/A          99           0.102               \n",
      "2025-08-13 00:48:52,352 | INFO | ChromatinDynamics | 2      CustomExternalForce            FlatBottomHarmonic   1        100          N/A          N/A          0.145               \n",
      "2025-08-13 00:48:52,353 | INFO | ChromatinDynamics | ------------------------------------------------------------------------------------------------------------------------\n",
      "2025-08-13 00:48:52,353 | INFO | ChromatinDynamics | Total particles: 100 | K.E./particle: 1.358 | P.E./particle: 1.000\n",
      "2025-08-13 00:48:52,354 | INFO | ChromatinDynamics | ------------------------------------------------------------------------------------------------------------------------\n"
     ]
    }
   ],
   "source": [
    "sim.print_force_info()"
   ]
  },
  {
   "cell_type": "code",
   "execution_count": 20,
   "metadata": {},
   "outputs": [
    {
     "data": {
      "text/plain": [
       "dict_keys(['t_corr', 'F_act'])"
      ]
     },
     "execution_count": 20,
     "metadata": {},
     "output_type": "execute_result"
    }
   ],
   "source": [
    "p=sim.get_active_params()\n",
    "\n",
    "p.keys()"
   ]
  },
  {
   "cell_type": "code",
   "execution_count": 18,
   "metadata": {},
   "outputs": [],
   "source": [
    "save_pdb(sim)"
   ]
  },
  {
   "cell_type": "code",
   "execution_count": 10,
   "metadata": {},
   "outputs": [
    {
     "name": "stderr",
     "output_type": "stream",
     "text": [
      "2025-08-13 00:49:06,952 | INFO | ChromatinDynamics | Closed position reporter file.\n"
     ]
    }
   ],
   "source": [
    "sim.save_reports()"
   ]
  },
  {
   "cell_type": "code",
   "execution_count": 19,
   "metadata": {},
   "outputs": [
    {
     "name": "stderr",
     "output_type": "stream",
     "text": [
      "2025-08-13 00:50:55,979 | INFO | HiCManager | Loading trajectory ...\n"
     ]
    },
    {
     "name": "stderr",
     "output_type": "stream",
     "text": [
      "2025-08-13 00:50:55,999 | INFO | HiCManager | Trajectory shape: (50, 100, 3)\n",
      "2025-08-13 00:50:56,000 | INFO | HiCManager | Using multiprocessing. Dividing into 6 processes.\n",
      "2025-08-13 00:50:56,626 | INFO | HiCManager | Generated HiC matrix of shape: (100, 100)\n"
     ]
    }
   ],
   "source": [
    "#Generating HiC from traj\n",
    "hic = hicman.gen_hic_from_cndb(traj_file=sim.reporters.get('position').filename, mu=2.0, rc=2.0, p=4.0, parallel=True)\n",
    "# np.savetxt(os.path.join(str(sim.output_dir), f\"Pi_{str(replica)}.txt\"), hic)"
   ]
  },
  {
   "cell_type": "code",
   "execution_count": 20,
   "metadata": {},
   "outputs": [
    {
     "name": "stderr",
     "output_type": "stream",
     "text": [
      "/var/folders/73/qzvpd49j0zl9j489y2t2l2280000gn/T/ipykernel_34379/3529879410.py:1: RuntimeWarning: divide by zero encountered in log10\n",
      "  plt.matshow(np.log10(hic), cmap='Reds')\n"
     ]
    },
    {
     "data": {
      "text/plain": [
       "<matplotlib.colorbar.Colorbar at 0x30d76df10>"
      ]
     },
     "execution_count": 20,
     "metadata": {},
     "output_type": "execute_result"
    },
    {
     "data": {
      "image/png": "[encoded data removed]",
      "text/plain": [
       "<Figure size 480x480 with 2 Axes>"
      ]
     },
     "metadata": {},
     "output_type": "display_data"
    }
   ],
   "source": [
    "plt.matshow(np.log10(hic), cmap='Reds')\n",
    "plt.colorbar()"
   ]
  },
  {
   "cell_type": "code",
   "execution_count": null,
   "metadata": {},
   "outputs": [],
   "source": []
  }
 ],
 "metadata": {
  "kernelspec": {
   "display_name": "3p11",
   "language": "python",
   "name": "python3"
  },
  "language_info": {
   "codemirror_mode": {
    "name": "ipython",
    "version": 3
   },
   "file_extension": ".py",
   "mimetype": "text/x-python",
   "name": "python",
   "nbconvert_exporter": "python",
   "pygments_lexer": "ipython3",
   "version": "3.11.1"
  }
 },
 "nbformat": 4,
 "nbformat_minor": 2
}
