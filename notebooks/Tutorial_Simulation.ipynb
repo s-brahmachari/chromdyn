{
 "cells": [
  {
   "cell_type": "code",
   "execution_count": 4,
   "metadata": {},
   "outputs": [],
   "source": [
    "import sys\n",
    "sys.path.append('../chromdyn')\n",
    "from Topology import TopologyGenerator\n",
    "from ChromatinDynamics import ChromatinDynamics"
   ]
  },
  {
   "cell_type": "code",
   "execution_count": 2,
   "metadata": {},
   "outputs": [],
   "source": [
    "#Initialize generator object\n",
    "generator = TopologyGenerator()\n",
    "\n",
    "#generate topology\n",
    "generator.gen_top([100])\n"
   ]
  },
  {
   "cell_type": "code",
   "execution_count": 6,
   "metadata": {},
   "outputs": [
    {
     "name": "stderr",
     "output_type": "stream",
     "text": [
      "2025-08-06 14:52:57,904 | INFO | ChromatinDynamics | ************************************************************\n",
      "2025-08-06 14:52:57,905 | INFO | ChromatinDynamics |                      Chromatin Dynamics                     \n",
      "2025-08-06 14:52:57,906 | INFO | ChromatinDynamics | ************************************************************\n",
      "2025-08-06 14:52:57,906 | INFO | ChromatinDynamics | System initialized with 100 particles. Output directory: output\n",
      "2025-08-06 14:52:57,907 | INFO | Platforms | Platform 'OpenCL' is available and selected.\n",
      "2025-08-06 14:52:57,907 | INFO | ChromatinDynamics | force_field_manager initialized. Use this to add forces before running setup.\n"
     ]
    }
   ],
   "source": [
    "#Initialize simulation object\n",
    "sim = ChromatinDynamics(generator.topology, name = 'test', platform_name = \"OpenCL\", output_dir = \"output\", console_stream = True)"
   ]
  },
  {
   "cell_type": "code",
   "execution_count": 7,
   "metadata": {},
   "outputs": [
    {
     "name": "stderr",
     "output_type": "stream",
     "text": [
      "2025-08-06 14:54:23,893 | INFO | Forcefield | Adding 99 harmonic bonds with r0=1.0, k=10.0, group=0\n",
      "2025-08-06 14:54:23,893 | INFO | Forcefield | HarmonicBonds force successfully added to system.\n",
      "2025-08-06 14:54:23,894 | INFO | Forcefield | --------------------------------------------------\n",
      "2025-08-06 14:54:23,895 | INFO | Forcefield | Adding Self-avoidance force with parameters:\n",
      "2025-08-06 14:54:23,896 | INFO | Forcefield | Ecut=4.0, k_rep=5.0, r_rep=1.0, cutoff=5.0, group=2\n",
      "2025-08-06 14:54:23,896 | INFO | Forcefield | Added exclusions from bonded monomers.\n",
      "2025-08-06 14:54:23,897 | INFO | Forcefield | SelfAvoidance force successfully added to system.\n",
      "2025-08-06 14:54:23,897 | INFO | Forcefield | --------------------------------------------------\n",
      "2025-08-06 14:54:23,897 | INFO | Forcefield | --------------------------------------------------\n",
      "2025-08-06 14:54:23,898 | INFO | Forcefield | Adding Flat-Bottom Harmonic potential with parameters:\n",
      "2025-08-06 14:54:23,898 | INFO | Forcefield | k = 0.1, r0 = 10.0, group = 1\n",
      "2025-08-06 14:54:23,899 | INFO | Forcefield | FlatBottomHarmonic force successfully added to system.\n",
      "2025-08-06 14:54:23,899 | INFO | Forcefield | --------------------------------------------------\n"
     ]
    }
   ],
   "source": [
    "#Add forces\n",
    "sim.force_field_manager.add_harmonic_bonds()\n",
    "sim.force_field_manager.add_self_avoidance()\n",
    "sim.force_field_manager.add_flat_bottom_harmonic()"
   ]
  },
  {
   "cell_type": "code",
   "execution_count": null,
   "metadata": {},
   "outputs": [
    {
     "name": "stderr",
     "output_type": "stream",
     "text": [
      "2025-08-06 14:56:19,812 | INFO | Integrators | Creating integrator ...\n",
      "2025-08-06 14:56:19,813 | INFO | Integrators | LangevinIntegrator: temperatute=120.0 | friction=0.1 | timestep=0.01\n",
      "2025-08-06 14:56:19,994 | INFO | ChromatinDynamics | Setting up simulation context...\n",
      "2025-08-06 14:56:19,994 | INFO | Utilities | Random walk created. Position shape: (100, 3)\n",
      "2025-08-06 14:56:19,997 | INFO | ChromatinDynamics | Simulation context initialized.\n",
      "2025-08-06 14:56:19,997 | INFO | ChromatinDynamics | ------------------------------------------------------------------------------------------------------------------------\n",
      "2025-08-06 14:56:19,997 | INFO | ChromatinDynamics | Index  Force Class                    Force Name           Group    Particles    Bonds        Exclusions   P.E./Particle       \n",
      "2025-08-06 14:56:19,998 | INFO | ChromatinDynamics | ------------------------------------------------------------------------------------------------------------------------\n",
      "2025-08-06 14:56:20,003 | INFO | ChromatinDynamics | 0      HarmonicBondForce              HarmonicBonds        0        N/A          99           N/A          0.000               \n",
      "2025-08-06 14:56:20,411 | INFO | ChromatinDynamics | 1      CustomNonbondedForce           SelfAvoidance        2        100          N/A          99           7.726               \n",
      "2025-08-06 14:56:20,412 | INFO | ChromatinDynamics | 2      CustomExternalForce            FlatBottomHarmonic   1        100          N/A          N/A          0.000               \n",
      "2025-08-06 14:56:20,454 | INFO | ChromatinDynamics | ------------------------------------------------------------------------------------------------------------------------\n",
      "2025-08-06 14:56:20,455 | INFO | ChromatinDynamics | Total particles: 100 | K.E./particle: 0.006 | P.E./particle: 7.726\n",
      "2025-08-06 14:56:20,455 | INFO | ChromatinDynamics | ------------------------------------------------------------------------------------------------------------------------\n",
      "2025-08-06 14:56:20,461 | INFO | ChromatinDynamics | Position reporter created: output/test_positions.cndb\n",
      "2025-08-06 14:56:21,452 | INFO | ChromatinDynamics | Energy reporter created: output/test_energy_report.txt\n",
      "2025-08-06 14:56:22,788 | INFO | Reporters | StabilityReporter initialized with thresholds: K.E. = 5.0, P.E. = 5.0\n",
      "2025-08-06 14:56:22,789 | INFO | ChromatinDynamics | Stability reporter created: output/test_stability_report.txt\n"
     ]
    }
   ],
   "source": [
    "#set up the simulation\n",
    "sim.simulation_setup(\n",
    "            init_struct='randomwalk',\n",
    "            integrator='langevin',\n",
    "            temperature=120.0,\n",
    "            timestep=0.01,\n",
    "            save_pos=True,\n",
    "            save_energy=True,\n",
    "            energy_report_interval=3_000,\n",
    "            pos_report_interval=1000,              \n",
    "            )"
   ]
  },
  {
   "cell_type": "code",
   "execution_count": 9,
   "metadata": {},
   "outputs": [
    {
     "name": "stderr",
     "output_type": "stream",
     "text": [
      "2025-08-06 14:57:34,722 | INFO | ChromatinDynamics | ------------------------------------------------------------\n",
      "2025-08-06 14:57:34,723 | INFO | ChromatinDynamics | Running simulation for 10000 steps...\n",
      "2025-08-06 14:57:34,723 | INFO | ChromatinDynamics | Paused reporter: position\n",
      "2025-08-06 14:57:34,724 | INFO | ChromatinDynamics | Paused reporter: energy\n",
      "2025-08-06 14:57:35,660 | INFO | ChromatinDynamics | Completed 10000 steps in 0.94s (10694 steps/s)\n",
      "2025-08-06 14:57:35,660 | INFO | ChromatinDynamics | ------------------------------------------------------------\n",
      "2025-08-06 14:57:35,661 | INFO | ChromatinDynamics | Resumed reporter: position\n",
      "2025-08-06 14:57:35,661 | INFO | ChromatinDynamics | Resumed reporter: energy\n"
     ]
    },
    {
     "data": {
      "text/plain": [
       "10693.987987090635"
      ]
     },
     "execution_count": 9,
     "metadata": {},
     "output_type": "execute_result"
    }
   ],
   "source": [
    "#collapse run\n",
    "sim.run(10_000, report=False)"
   ]
  },
  {
   "cell_type": "code",
   "execution_count": 10,
   "metadata": {},
   "outputs": [
    {
     "name": "stderr",
     "output_type": "stream",
     "text": [
      "2025-08-06 14:58:15,844 | INFO | ChromatinDynamics | ------------------------------------------------------------\n",
      "2025-08-06 14:58:15,844 | INFO | ChromatinDynamics | Running simulation for 10000 steps...\n",
      "2025-08-06 14:58:16,694 | INFO | ChromatinDynamics | Completed 10000 steps in 0.85s (11781 steps/s)\n",
      "2025-08-06 14:58:16,694 | INFO | ChromatinDynamics | ------------------------------------------------------------\n"
     ]
    },
    {
     "data": {
      "text/plain": [
       "11780.521810642258"
      ]
     },
     "execution_count": 10,
     "metadata": {},
     "output_type": "execute_result"
    }
   ],
   "source": [
    "# save structures while running\n",
    "sim.run(10_000, report=True)"
   ]
  }
 ],
 "metadata": {
  "kernelspec": {
   "display_name": "3p11",
   "language": "python",
   "name": "python3"
  },
  "language_info": {
   "codemirror_mode": {
    "name": "ipython",
    "version": 3
   },
   "file_extension": ".py",
   "mimetype": "text/x-python",
   "name": "python",
   "nbconvert_exporter": "python",
   "pygments_lexer": "ipython3",
   "version": "3.11.1"
  }
 },
 "nbformat": 4,
 "nbformat_minor": 2
}
